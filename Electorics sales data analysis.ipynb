{
 "cells": [
  {
   "cell_type": "markdown",
   "metadata": {},
   "source": [
    "# Electronic Store Sales Analysis"
   ]
  },
  {
   "cell_type": "markdown",
   "metadata": {},
   "source": [
    "## A- Importing libraries"
   ]
  },
  {
   "cell_type": "code",
   "execution_count": 1,
   "metadata": {},
   "outputs": [],
   "source": [
    "import pandas as pd\n",
    "import os\n",
    "import matplotlib.pyplot as plt"
   ]
  },
  {
   "cell_type": "markdown",
   "metadata": {},
   "source": [
    "## B- Reading and merging data"
   ]
  },
  {
   "cell_type": "code",
   "execution_count": 2,
   "metadata": {},
   "outputs": [],
   "source": [
    "files = [file for file in os.listdir('./data')]\n",
    "\n",
    "all_sales = pd.DataFrame()\n",
    "\n",
    "for file in files:\n",
    "    file_df = pd.read_csv('./data/'+file)\n",
    "    all_sales = pd.concat([all_sales, file_df])\n",
    "    \n",
    "# exporting the full data\n",
    "all_sales.to_csv(\"./data/combined_sales.csv\", index=False)"
   ]
  },
  {
   "cell_type": "code",
   "execution_count": 13,
   "metadata": {},
   "outputs": [],
   "source": [
    "df = pd.read_csv('data/combined_sales.csv')\n"
   ]
  },
  {
   "cell_type": "markdown",
   "metadata": {},
   "source": [
    "## C- Data exploring and cleaning"
   ]
  },
  {
   "cell_type": "code",
   "execution_count": 14,
   "metadata": {},
   "outputs": [],
   "source": [
    "# exploring and removing the missing values\n",
    "df_temp = df[df.isnull().any(axis=1)]\n",
    "\n",
    "df = df.dropna()"
   ]
  },
  {
   "cell_type": "code",
   "execution_count": 15,
   "metadata": {},
   "outputs": [
    {
     "data": {
      "text/html": [
       "<div>\n",
       "<style scoped>\n",
       "    .dataframe tbody tr th:only-of-type {\n",
       "        vertical-align: middle;\n",
       "    }\n",
       "\n",
       "    .dataframe tbody tr th {\n",
       "        vertical-align: top;\n",
       "    }\n",
       "\n",
       "    .dataframe thead th {\n",
       "        text-align: right;\n",
       "    }\n",
       "</style>\n",
       "<table border=\"1\" class=\"dataframe\">\n",
       "  <thead>\n",
       "    <tr style=\"text-align: right;\">\n",
       "      <th></th>\n",
       "      <th>Order ID</th>\n",
       "      <th>Product</th>\n",
       "      <th>Quantity Ordered</th>\n",
       "      <th>Price Each</th>\n",
       "      <th>Order Date</th>\n",
       "      <th>Purchase Address</th>\n",
       "    </tr>\n",
       "  </thead>\n",
       "  <tbody>\n",
       "    <tr>\n",
       "      <th>count</th>\n",
       "      <td>217352</td>\n",
       "      <td>217352</td>\n",
       "      <td>217352</td>\n",
       "      <td>217352</td>\n",
       "      <td>217352</td>\n",
       "      <td>217352</td>\n",
       "    </tr>\n",
       "    <tr>\n",
       "      <th>unique</th>\n",
       "      <td>207236</td>\n",
       "      <td>20</td>\n",
       "      <td>12</td>\n",
       "      <td>24</td>\n",
       "      <td>158152</td>\n",
       "      <td>157937</td>\n",
       "    </tr>\n",
       "    <tr>\n",
       "      <th>top</th>\n",
       "      <td>Order ID</td>\n",
       "      <td>USB-C Charging Cable</td>\n",
       "      <td>1</td>\n",
       "      <td>11.95</td>\n",
       "      <td>Order Date</td>\n",
       "      <td>Purchase Address</td>\n",
       "    </tr>\n",
       "    <tr>\n",
       "      <th>freq</th>\n",
       "      <td>423</td>\n",
       "      <td>25544</td>\n",
       "      <td>196633</td>\n",
       "      <td>25544</td>\n",
       "      <td>423</td>\n",
       "      <td>423</td>\n",
       "    </tr>\n",
       "  </tbody>\n",
       "</table>\n",
       "</div>"
      ],
      "text/plain": [
       "        Order ID               Product Quantity Ordered Price Each  \\\n",
       "count     217352                217352           217352     217352   \n",
       "unique    207236                    20               12         24   \n",
       "top     Order ID  USB-C Charging Cable                1      11.95   \n",
       "freq         423                 25544           196633      25544   \n",
       "\n",
       "        Order Date  Purchase Address  \n",
       "count       217352            217352  \n",
       "unique      158152            157937  \n",
       "top     Order Date  Purchase Address  \n",
       "freq           423               423  "
      ]
     },
     "execution_count": 15,
     "metadata": {},
     "output_type": "execute_result"
    }
   ],
   "source": [
    "# exploring statistics of the data\n",
    "df.describe(include='all')"
   ]
  },
  {
   "cell_type": "code",
   "execution_count": 16,
   "metadata": {},
   "outputs": [],
   "source": [
    "# data contain extra headers to be cleaned\n",
    "\n",
    "temp_df = df[df['Purchase Address'].str[:] == 'Purchase Address']\n",
    "\n",
    "df = df[df['Purchase Address'].str[:] != 'Purchase Address']"
   ]
  },
  {
   "cell_type": "code",
   "execution_count": 17,
   "metadata": {},
   "outputs": [
    {
     "data": {
      "text/html": [
       "<div>\n",
       "<style scoped>\n",
       "    .dataframe tbody tr th:only-of-type {\n",
       "        vertical-align: middle;\n",
       "    }\n",
       "\n",
       "    .dataframe tbody tr th {\n",
       "        vertical-align: top;\n",
       "    }\n",
       "\n",
       "    .dataframe thead th {\n",
       "        text-align: right;\n",
       "    }\n",
       "</style>\n",
       "<table border=\"1\" class=\"dataframe\">\n",
       "  <thead>\n",
       "    <tr style=\"text-align: right;\">\n",
       "      <th></th>\n",
       "      <th>Order ID</th>\n",
       "      <th>Quantity Ordered</th>\n",
       "      <th>Price Each</th>\n",
       "      <th>Order Date</th>\n",
       "      <th>Purchase Address</th>\n",
       "    </tr>\n",
       "    <tr>\n",
       "      <th>Product</th>\n",
       "      <th></th>\n",
       "      <th></th>\n",
       "      <th></th>\n",
       "      <th></th>\n",
       "      <th></th>\n",
       "    </tr>\n",
       "  </thead>\n",
       "  <tbody>\n",
       "    <tr>\n",
       "      <th>20in Monitor</th>\n",
       "      <td>4693</td>\n",
       "      <td>4693</td>\n",
       "      <td>4693</td>\n",
       "      <td>4693</td>\n",
       "      <td>4693</td>\n",
       "    </tr>\n",
       "    <tr>\n",
       "      <th>27in 4K Gaming Monitor</th>\n",
       "      <td>7168</td>\n",
       "      <td>7168</td>\n",
       "      <td>7168</td>\n",
       "      <td>7168</td>\n",
       "      <td>7168</td>\n",
       "    </tr>\n",
       "    <tr>\n",
       "      <th>27in FHD Monitor</th>\n",
       "      <td>8584</td>\n",
       "      <td>8584</td>\n",
       "      <td>8584</td>\n",
       "      <td>8584</td>\n",
       "      <td>8584</td>\n",
       "    </tr>\n",
       "    <tr>\n",
       "      <th>34in Ultrawide Monitor</th>\n",
       "      <td>7064</td>\n",
       "      <td>7064</td>\n",
       "      <td>7064</td>\n",
       "      <td>7064</td>\n",
       "      <td>7064</td>\n",
       "    </tr>\n",
       "    <tr>\n",
       "      <th>AA Batteries (4-pack)</th>\n",
       "      <td>23506</td>\n",
       "      <td>23506</td>\n",
       "      <td>23506</td>\n",
       "      <td>23506</td>\n",
       "      <td>23506</td>\n",
       "    </tr>\n",
       "    <tr>\n",
       "      <th>AAA Batteries (4-pack)</th>\n",
       "      <td>23424</td>\n",
       "      <td>23424</td>\n",
       "      <td>23424</td>\n",
       "      <td>23424</td>\n",
       "      <td>23424</td>\n",
       "    </tr>\n",
       "    <tr>\n",
       "      <th>Apple Airpods Headphones</th>\n",
       "      <td>17609</td>\n",
       "      <td>17609</td>\n",
       "      <td>17609</td>\n",
       "      <td>17609</td>\n",
       "      <td>17609</td>\n",
       "    </tr>\n",
       "    <tr>\n",
       "      <th>Bose SoundSport Headphones</th>\n",
       "      <td>15578</td>\n",
       "      <td>15578</td>\n",
       "      <td>15578</td>\n",
       "      <td>15578</td>\n",
       "      <td>15578</td>\n",
       "    </tr>\n",
       "    <tr>\n",
       "      <th>Budget Phone</th>\n",
       "      <td>2268</td>\n",
       "      <td>2268</td>\n",
       "      <td>2268</td>\n",
       "      <td>2268</td>\n",
       "      <td>2268</td>\n",
       "    </tr>\n",
       "    <tr>\n",
       "      <th>Flatscreen TV</th>\n",
       "      <td>5523</td>\n",
       "      <td>5523</td>\n",
       "      <td>5523</td>\n",
       "      <td>5523</td>\n",
       "      <td>5523</td>\n",
       "    </tr>\n",
       "    <tr>\n",
       "      <th>IPhone</th>\n",
       "      <td>7946</td>\n",
       "      <td>7946</td>\n",
       "      <td>7946</td>\n",
       "      <td>7946</td>\n",
       "      <td>7946</td>\n",
       "    </tr>\n",
       "    <tr>\n",
       "      <th>LG Dryer</th>\n",
       "      <td>739</td>\n",
       "      <td>739</td>\n",
       "      <td>739</td>\n",
       "      <td>739</td>\n",
       "      <td>739</td>\n",
       "    </tr>\n",
       "    <tr>\n",
       "      <th>LG Washing Machine</th>\n",
       "      <td>759</td>\n",
       "      <td>759</td>\n",
       "      <td>759</td>\n",
       "      <td>759</td>\n",
       "      <td>759</td>\n",
       "    </tr>\n",
       "    <tr>\n",
       "      <th>Lightning Charging Cable</th>\n",
       "      <td>24928</td>\n",
       "      <td>24928</td>\n",
       "      <td>24928</td>\n",
       "      <td>24928</td>\n",
       "      <td>24928</td>\n",
       "    </tr>\n",
       "    <tr>\n",
       "      <th>Macbook Pro Laptop</th>\n",
       "      <td>5444</td>\n",
       "      <td>5444</td>\n",
       "      <td>5444</td>\n",
       "      <td>5444</td>\n",
       "      <td>5444</td>\n",
       "    </tr>\n",
       "    <tr>\n",
       "      <th>Samsung Phone</th>\n",
       "      <td>9359</td>\n",
       "      <td>9359</td>\n",
       "      <td>9359</td>\n",
       "      <td>9359</td>\n",
       "      <td>9359</td>\n",
       "    </tr>\n",
       "    <tr>\n",
       "      <th>ThinkPad Laptop</th>\n",
       "      <td>4808</td>\n",
       "      <td>4808</td>\n",
       "      <td>4808</td>\n",
       "      <td>4808</td>\n",
       "      <td>4808</td>\n",
       "    </tr>\n",
       "    <tr>\n",
       "      <th>USB-C Charging Cable</th>\n",
       "      <td>25544</td>\n",
       "      <td>25544</td>\n",
       "      <td>25544</td>\n",
       "      <td>25544</td>\n",
       "      <td>25544</td>\n",
       "    </tr>\n",
       "    <tr>\n",
       "      <th>Wired Headphones</th>\n",
       "      <td>21985</td>\n",
       "      <td>21985</td>\n",
       "      <td>21985</td>\n",
       "      <td>21985</td>\n",
       "      <td>21985</td>\n",
       "    </tr>\n",
       "  </tbody>\n",
       "</table>\n",
       "</div>"
      ],
      "text/plain": [
       "                            Order ID  Quantity Ordered  Price Each  \\\n",
       "Product                                                              \n",
       "20in Monitor                    4693              4693        4693   \n",
       "27in 4K Gaming Monitor          7168              7168        7168   \n",
       "27in FHD Monitor                8584              8584        8584   \n",
       "34in Ultrawide Monitor          7064              7064        7064   \n",
       "AA Batteries (4-pack)          23506             23506       23506   \n",
       "AAA Batteries (4-pack)         23424             23424       23424   \n",
       "Apple Airpods Headphones       17609             17609       17609   \n",
       "Bose SoundSport Headphones     15578             15578       15578   \n",
       "Budget Phone                    2268              2268        2268   \n",
       "Flatscreen TV                   5523              5523        5523   \n",
       "IPhone                          7946              7946        7946   \n",
       "LG Dryer                         739               739         739   \n",
       "LG Washing Machine               759               759         759   \n",
       "Lightning Charging Cable       24928             24928       24928   \n",
       "Macbook Pro Laptop              5444              5444        5444   \n",
       "Samsung Phone                   9359              9359        9359   \n",
       "ThinkPad Laptop                 4808              4808        4808   \n",
       "USB-C Charging Cable           25544             25544       25544   \n",
       "Wired Headphones               21985             21985       21985   \n",
       "\n",
       "                            Order Date  Purchase Address  \n",
       "Product                                                   \n",
       "20in Monitor                      4693              4693  \n",
       "27in 4K Gaming Monitor            7168              7168  \n",
       "27in FHD Monitor                  8584              8584  \n",
       "34in Ultrawide Monitor            7064              7064  \n",
       "AA Batteries (4-pack)            23506             23506  \n",
       "AAA Batteries (4-pack)           23424             23424  \n",
       "Apple Airpods Headphones         17609             17609  \n",
       "Bose SoundSport Headphones       15578             15578  \n",
       "Budget Phone                      2268              2268  \n",
       "Flatscreen TV                     5523              5523  \n",
       "IPhone                            7946              7946  \n",
       "LG Dryer                           739               739  \n",
       "LG Washing Machine                 759               759  \n",
       "Lightning Charging Cable         24928             24928  \n",
       "Macbook Pro Laptop                5444              5444  \n",
       "Samsung Phone                     9359              9359  \n",
       "ThinkPad Laptop                   4808              4808  \n",
       "USB-C Charging Cable             25544             25544  \n",
       "Wired Headphones                 21985             21985  "
      ]
     },
     "execution_count": 17,
     "metadata": {},
     "output_type": "execute_result"
    }
   ],
   "source": [
    "#exploring count of products sold\n",
    "df.groupby(['Product']).count()"
   ]
  },
  {
   "cell_type": "code",
   "execution_count": 19,
   "metadata": {},
   "outputs": [],
   "source": [
    "# converting order date into proper datetime format\n",
    "df['Order Date'] =pd.to_datetime(df['Order Date'],format=\"%y/%m/%d %H:%M\")\n",
    "df['Hour'] = df['Order Date'].dt.hour"
   ]
  },
  {
   "cell_type": "code",
   "execution_count": 20,
   "metadata": {},
   "outputs": [
    {
     "data": {
      "text/html": [
       "<div>\n",
       "<style scoped>\n",
       "    .dataframe tbody tr th:only-of-type {\n",
       "        vertical-align: middle;\n",
       "    }\n",
       "\n",
       "    .dataframe tbody tr th {\n",
       "        vertical-align: top;\n",
       "    }\n",
       "\n",
       "    .dataframe thead th {\n",
       "        text-align: right;\n",
       "    }\n",
       "</style>\n",
       "<table border=\"1\" class=\"dataframe\">\n",
       "  <thead>\n",
       "    <tr style=\"text-align: right;\">\n",
       "      <th></th>\n",
       "      <th>Order ID</th>\n",
       "      <th>Product</th>\n",
       "      <th>Quantity Ordered</th>\n",
       "      <th>Price Each</th>\n",
       "      <th>Order Date</th>\n",
       "      <th>Purchase Address</th>\n",
       "      <th>Hour</th>\n",
       "      <th>Address</th>\n",
       "      <th>City</th>\n",
       "      <th>Zip Code</th>\n",
       "    </tr>\n",
       "  </thead>\n",
       "  <tbody>\n",
       "    <tr>\n",
       "      <th>0</th>\n",
       "      <td>311859</td>\n",
       "      <td>AAA Batteries (4-pack)</td>\n",
       "      <td>1</td>\n",
       "      <td>2.99</td>\n",
       "      <td>2020-04-12 20:43:00</td>\n",
       "      <td>470 Cedar St, Dallas, TX 75001</td>\n",
       "      <td>20</td>\n",
       "      <td>470 Cedar St</td>\n",
       "      <td>Dallas,TX</td>\n",
       "      <td>75001</td>\n",
       "    </tr>\n",
       "    <tr>\n",
       "      <th>1</th>\n",
       "      <td>311860</td>\n",
       "      <td>USB-C Charging Cable</td>\n",
       "      <td>1</td>\n",
       "      <td>11.95</td>\n",
       "      <td>2020-04-08 23:42:00</td>\n",
       "      <td>917 Center St, Los Angeles, CA 90001</td>\n",
       "      <td>23</td>\n",
       "      <td>917 Center St</td>\n",
       "      <td>Los Angeles,CA</td>\n",
       "      <td>90001</td>\n",
       "    </tr>\n",
       "    <tr>\n",
       "      <th>2</th>\n",
       "      <td>311861</td>\n",
       "      <td>Flatscreen TV</td>\n",
       "      <td>1</td>\n",
       "      <td>300.0</td>\n",
       "      <td>2020-04-06 18:21:00</td>\n",
       "      <td>347 Church St, San Francisco, CA 94016</td>\n",
       "      <td>18</td>\n",
       "      <td>347 Church St</td>\n",
       "      <td>San Francisco,CA</td>\n",
       "      <td>94016</td>\n",
       "    </tr>\n",
       "    <tr>\n",
       "      <th>3</th>\n",
       "      <td>311862</td>\n",
       "      <td>27in FHD Monitor</td>\n",
       "      <td>1</td>\n",
       "      <td>149.99</td>\n",
       "      <td>2020-04-27 22:32:00</td>\n",
       "      <td>604 Main St, Dallas, TX 75001</td>\n",
       "      <td>22</td>\n",
       "      <td>604 Main St</td>\n",
       "      <td>Dallas,TX</td>\n",
       "      <td>75001</td>\n",
       "    </tr>\n",
       "    <tr>\n",
       "      <th>4</th>\n",
       "      <td>311863</td>\n",
       "      <td>AA Batteries (4-pack)</td>\n",
       "      <td>1</td>\n",
       "      <td>3.84</td>\n",
       "      <td>2020-04-16 09:33:00</td>\n",
       "      <td>443 Johnson St, Portland, OR 97035</td>\n",
       "      <td>9</td>\n",
       "      <td>443 Johnson St</td>\n",
       "      <td>Portland,OR</td>\n",
       "      <td>97035</td>\n",
       "    </tr>\n",
       "  </tbody>\n",
       "</table>\n",
       "</div>"
      ],
      "text/plain": [
       "  Order ID                 Product Quantity Ordered Price Each  \\\n",
       "0   311859  AAA Batteries (4-pack)                1       2.99   \n",
       "1   311860    USB-C Charging Cable                1      11.95   \n",
       "2   311861           Flatscreen TV                1      300.0   \n",
       "3   311862        27in FHD Monitor                1     149.99   \n",
       "4   311863   AA Batteries (4-pack)                1       3.84   \n",
       "\n",
       "           Order Date                        Purchase Address  Hour  \\\n",
       "0 2020-04-12 20:43:00          470 Cedar St, Dallas, TX 75001    20   \n",
       "1 2020-04-08 23:42:00    917 Center St, Los Angeles, CA 90001    23   \n",
       "2 2020-04-06 18:21:00  347 Church St, San Francisco, CA 94016    18   \n",
       "3 2020-04-27 22:32:00           604 Main St, Dallas, TX 75001    22   \n",
       "4 2020-04-16 09:33:00      443 Johnson St, Portland, OR 97035     9   \n",
       "\n",
       "          Address                City Zip Code  \n",
       "0    470 Cedar St          Dallas,TX     75001  \n",
       "1   917 Center St     Los Angeles,CA     90001  \n",
       "2   347 Church St   San Francisco,CA     94016  \n",
       "3     604 Main St          Dallas,TX     75001  \n",
       "4  443 Johnson St        Portland,OR     97035  "
      ]
     },
     "execution_count": 20,
     "metadata": {},
     "output_type": "execute_result"
    }
   ],
   "source": [
    "# extracting purshase address details & getting cities column\n",
    "\n",
    "df['Address'] = df['Purchase Address'].apply(lambda x: x.split(',')[0])\n",
    "df['City'] = (df['Purchase Address'].apply(lambda x: x.split(',')[1]))+ (',') + df['Purchase Address'].str[-8:-5]\n",
    "df['Zip Code'] = df['Purchase Address'].str[-5:]\n",
    "df.head()"
   ]
  },
  {
   "cell_type": "code",
   "execution_count": 21,
   "metadata": {},
   "outputs": [
    {
     "data": {
      "text/html": [
       "<div>\n",
       "<style scoped>\n",
       "    .dataframe tbody tr th:only-of-type {\n",
       "        vertical-align: middle;\n",
       "    }\n",
       "\n",
       "    .dataframe tbody tr th {\n",
       "        vertical-align: top;\n",
       "    }\n",
       "\n",
       "    .dataframe thead th {\n",
       "        text-align: right;\n",
       "    }\n",
       "</style>\n",
       "<table border=\"1\" class=\"dataframe\">\n",
       "  <thead>\n",
       "    <tr style=\"text-align: right;\">\n",
       "      <th></th>\n",
       "      <th>Order ID</th>\n",
       "      <th>Product</th>\n",
       "      <th>Quantity Ordered</th>\n",
       "      <th>Price Each</th>\n",
       "      <th>Order Date</th>\n",
       "      <th>Purchase Address</th>\n",
       "      <th>Hour</th>\n",
       "      <th>Address</th>\n",
       "      <th>City</th>\n",
       "      <th>Zip Code</th>\n",
       "      <th>Total</th>\n",
       "    </tr>\n",
       "  </thead>\n",
       "  <tbody>\n",
       "    <tr>\n",
       "      <th>0</th>\n",
       "      <td>311859</td>\n",
       "      <td>AAA Batteries (4-pack)</td>\n",
       "      <td>1</td>\n",
       "      <td>2.99</td>\n",
       "      <td>2020-04-12 20:43:00</td>\n",
       "      <td>470 Cedar St, Dallas, TX 75001</td>\n",
       "      <td>20</td>\n",
       "      <td>470 Cedar St</td>\n",
       "      <td>Dallas,TX</td>\n",
       "      <td>75001</td>\n",
       "      <td>2.99</td>\n",
       "    </tr>\n",
       "    <tr>\n",
       "      <th>1</th>\n",
       "      <td>311860</td>\n",
       "      <td>USB-C Charging Cable</td>\n",
       "      <td>1</td>\n",
       "      <td>11.95</td>\n",
       "      <td>2020-04-08 23:42:00</td>\n",
       "      <td>917 Center St, Los Angeles, CA 90001</td>\n",
       "      <td>23</td>\n",
       "      <td>917 Center St</td>\n",
       "      <td>Los Angeles,CA</td>\n",
       "      <td>90001</td>\n",
       "      <td>11.95</td>\n",
       "    </tr>\n",
       "    <tr>\n",
       "      <th>2</th>\n",
       "      <td>311861</td>\n",
       "      <td>Flatscreen TV</td>\n",
       "      <td>1</td>\n",
       "      <td>300.00</td>\n",
       "      <td>2020-04-06 18:21:00</td>\n",
       "      <td>347 Church St, San Francisco, CA 94016</td>\n",
       "      <td>18</td>\n",
       "      <td>347 Church St</td>\n",
       "      <td>San Francisco,CA</td>\n",
       "      <td>94016</td>\n",
       "      <td>300.00</td>\n",
       "    </tr>\n",
       "    <tr>\n",
       "      <th>3</th>\n",
       "      <td>311862</td>\n",
       "      <td>27in FHD Monitor</td>\n",
       "      <td>1</td>\n",
       "      <td>149.99</td>\n",
       "      <td>2020-04-27 22:32:00</td>\n",
       "      <td>604 Main St, Dallas, TX 75001</td>\n",
       "      <td>22</td>\n",
       "      <td>604 Main St</td>\n",
       "      <td>Dallas,TX</td>\n",
       "      <td>75001</td>\n",
       "      <td>149.99</td>\n",
       "    </tr>\n",
       "    <tr>\n",
       "      <th>4</th>\n",
       "      <td>311863</td>\n",
       "      <td>AA Batteries (4-pack)</td>\n",
       "      <td>1</td>\n",
       "      <td>3.84</td>\n",
       "      <td>2020-04-16 09:33:00</td>\n",
       "      <td>443 Johnson St, Portland, OR 97035</td>\n",
       "      <td>9</td>\n",
       "      <td>443 Johnson St</td>\n",
       "      <td>Portland,OR</td>\n",
       "      <td>97035</td>\n",
       "      <td>3.84</td>\n",
       "    </tr>\n",
       "  </tbody>\n",
       "</table>\n",
       "</div>"
      ],
      "text/plain": [
       "  Order ID                 Product  Quantity Ordered  Price Each  \\\n",
       "0   311859  AAA Batteries (4-pack)                 1        2.99   \n",
       "1   311860    USB-C Charging Cable                 1       11.95   \n",
       "2   311861           Flatscreen TV                 1      300.00   \n",
       "3   311862        27in FHD Monitor                 1      149.99   \n",
       "4   311863   AA Batteries (4-pack)                 1        3.84   \n",
       "\n",
       "           Order Date                        Purchase Address  Hour  \\\n",
       "0 2020-04-12 20:43:00          470 Cedar St, Dallas, TX 75001    20   \n",
       "1 2020-04-08 23:42:00    917 Center St, Los Angeles, CA 90001    23   \n",
       "2 2020-04-06 18:21:00  347 Church St, San Francisco, CA 94016    18   \n",
       "3 2020-04-27 22:32:00           604 Main St, Dallas, TX 75001    22   \n",
       "4 2020-04-16 09:33:00      443 Johnson St, Portland, OR 97035     9   \n",
       "\n",
       "          Address                City Zip Code   Total  \n",
       "0    470 Cedar St          Dallas,TX     75001    2.99  \n",
       "1   917 Center St     Los Angeles,CA     90001   11.95  \n",
       "2   347 Church St   San Francisco,CA     94016  300.00  \n",
       "3     604 Main St          Dallas,TX     75001  149.99  \n",
       "4  443 Johnson St        Portland,OR     97035    3.84  "
      ]
     },
     "execution_count": 21,
     "metadata": {},
     "output_type": "execute_result"
    }
   ],
   "source": [
    "# total income per order\n",
    "df['Quantity Ordered'] = df['Quantity Ordered'].astype('int32')\n",
    "df['Price Each'] = df['Price Each'].astype('float')\n",
    "df['Total'] = df['Quantity Ordered'] * df['Price Each']\n",
    "df.head()"
   ]
  },
  {
   "cell_type": "markdown",
   "metadata": {},
   "source": [
    "## D- Data Analysis"
   ]
  },
  {
   "cell_type": "markdown",
   "metadata": {},
   "source": [
    "### 1- What are the best months in terms of sales?"
   ]
  },
  {
   "cell_type": "code",
   "execution_count": 22,
   "metadata": {},
   "outputs": [
    {
     "data": {
      "image/png": "[encoded data removed]",
      "text/plain": [
       "<Figure size 432x288 with 1 Axes>"
      ]
     },
     "metadata": {
      "needs_background": "light"
     },
     "output_type": "display_data"
    }
   ],
   "source": [
    "#explaring the months sales\n",
    "\n",
    "df['month'] = pd.DatetimeIndex(df['Order Date']).month\n",
    "results = df.groupby(['month']).sum()\n",
    "\n",
    "#plotting the monthly sales\n",
    "month = range (1,13)\n",
    "\n",
    "plt.bar(month, results['Total'])\n",
    "plt.xticks(month)\n",
    "plt.ylabel('Sales in USD')\n",
    "plt.xlabel('Months')\n",
    "plt.show()\n",
    "\n",
    "#There is a big increase in sales after March probabaly related to Covid-19 lockdown. \n",
    "#there are noticable increase in sales too during the holiday season in the end of the year.\n",
    "#and during Sept probabaly beacuse of the return to school and increased demand for electronic devices."
   ]
  },
  {
   "cell_type": "markdown",
   "metadata": {},
   "source": [
    "### 2- What are the cities that generated the most income?"
   ]
  },
  {
   "cell_type": "code",
   "execution_count": 30,
   "metadata": {},
   "outputs": [
    {
     "data": {
      "image/png": "[encoded data removed]",
      "text/plain": [
       "<Figure size 432x288 with 1 Axes>"
      ]
     },
     "metadata": {
      "needs_background": "light"
     },
     "output_type": "display_data"
    }
   ],
   "source": [
    "results_city = df.groupby(['City']).sum()\n",
    "\n",
    "#plotting the sales per city\n",
    "\n",
    "Cities = [city for city, df in df.groupby('City')]\n",
    "\n",
    "plt.bar(Cities, results_city['Total'])\n",
    "plt.xticks(Cities, rotation='vertical', size =8)\n",
    "plt.ylabel('Sales in USD')\n",
    "plt.xlabel('Cities')\n",
    "plt.show()\n",
    "\n",
    "#Clearly California region represented a big chunck of sales."
   ]
  },
  {
   "cell_type": "markdown",
   "metadata": {},
   "source": [
    "### 3- What is the best time to display advertisments?"
   ]
  },
  {
   "cell_type": "code",
   "execution_count": 32,
   "metadata": {},
   "outputs": [
    {
     "data": {
      "image/png": "[encoded data removed]",
      "text/plain": [
       "<Figure size 432x288 with 1 Axes>"
      ]
     },
     "metadata": {
      "needs_background": "light"
     },
     "output_type": "display_data"
    }
   ],
   "source": [
    "hours = [hour for hour, df in df.groupby('Hour')]\n",
    "\n",
    "plt.plot(hours, df.groupby(['Hour']).count())\n",
    "plt.xticks(hours)\n",
    "plt.ylabel('Orders Count')\n",
    "plt.xlabel('Hours of the day')\n",
    "plt.grid()\n",
    "plt.show()\n",
    "\n",
    "#Orders peaked around 7 pm. ads just before 7 pm is more likely to generate sales."
   ]
  },
  {
   "cell_type": "markdown",
   "metadata": {},
   "source": [
    "### 4- What are the products most often sold together?"
   ]
  },
  {
   "cell_type": "code",
   "execution_count": 25,
   "metadata": {},
   "outputs": [
    {
     "name": "stderr",
     "output_type": "stream",
     "text": [
      "<ipython-input-25-cc520e63a856>:17: SettingWithCopyWarning: \n",
      "A value is trying to be set on a copy of a slice from a DataFrame.\n",
      "Try using .loc[row_indexer,col_indexer] = value instead\n",
      "\n",
      "See the caveats in the documentation: https://pandas.pydata.org/pandas-docs/stable/user_guide/indexing.html#returning-a-view-versus-a-copy\n",
      "  df_list['Shopping list'] = df_list.groupby('Order ID')['Product'].transform(lambda X: ',' .join(X))\n"
     ]
    },
    {
     "data": {
      "text/html": [
       "<div>\n",
       "<style scoped>\n",
       "    .dataframe tbody tr th:only-of-type {\n",
       "        vertical-align: middle;\n",
       "    }\n",
       "\n",
       "    .dataframe tbody tr th {\n",
       "        vertical-align: top;\n",
       "    }\n",
       "\n",
       "    .dataframe thead th {\n",
       "        text-align: right;\n",
       "    }\n",
       "</style>\n",
       "<table border=\"1\" class=\"dataframe\">\n",
       "  <thead>\n",
       "    <tr style=\"text-align: right;\">\n",
       "      <th></th>\n",
       "      <th>Order ID</th>\n",
       "      <th>Shopping list</th>\n",
       "    </tr>\n",
       "  </thead>\n",
       "  <tbody>\n",
       "    <tr>\n",
       "      <th>21</th>\n",
       "      <td>311879</td>\n",
       "      <td>USB-C Charging Cable,Wired Headphones</td>\n",
       "    </tr>\n",
       "    <tr>\n",
       "      <th>81</th>\n",
       "      <td>311938</td>\n",
       "      <td>Apple Airpods Headphones,Wired Headphones</td>\n",
       "    </tr>\n",
       "    <tr>\n",
       "      <th>83</th>\n",
       "      <td>311939</td>\n",
       "      <td>Samsung Phone,USB-C Charging Cable</td>\n",
       "    </tr>\n",
       "    <tr>\n",
       "      <th>89</th>\n",
       "      <td>311943</td>\n",
       "      <td>USB-C Charging Cable,AAA Batteries (4-pack)</td>\n",
       "    </tr>\n",
       "    <tr>\n",
       "      <th>98</th>\n",
       "      <td>311951</td>\n",
       "      <td>Lightning Charging Cable,34in Ultrawide Monitor</td>\n",
       "    </tr>\n",
       "  </tbody>\n",
       "</table>\n",
       "</div>"
      ],
      "text/plain": [
       "   Order ID                                    Shopping list\n",
       "21   311879            USB-C Charging Cable,Wired Headphones\n",
       "81   311938        Apple Airpods Headphones,Wired Headphones\n",
       "83   311939               Samsung Phone,USB-C Charging Cable\n",
       "89   311943      USB-C Charging Cable,AAA Batteries (4-pack)\n",
       "98   311951  Lightning Charging Cable,34in Ultrawide Monitor"
      ]
     },
     "execution_count": 25,
     "metadata": {},
     "output_type": "execute_result"
    }
   ],
   "source": [
    "#removing non - duplicated order ID (keeping the orders with more than 1 product)\n",
    "\n",
    "df_list = df[df.duplicated(subset=['Order ID'], keep = False)]\n",
    "\n",
    "# creating a backet list of all prodcuts of the same order\n",
    "# Referenced: https://stackoverflow.com/questions/27298178/concatenate-strings-from-several-rows-using-pandas-groupby\n",
    "df_list['Shopping list'] = df_list.groupby('Order ID')['Product'].transform(lambda X: ',' .join(X))\n",
    "\n",
    "\n",
    "df_list = df_list[['Order ID', 'Shopping list']].drop_duplicates()\n",
    "df_list.head()"
   ]
  },
  {
   "cell_type": "code",
   "execution_count": 26,
   "metadata": {},
   "outputs": [
    {
     "name": "stdout",
     "output_type": "stream",
     "text": [
      "('Samsung Phone', 'USB-C Charging Cable') 1649\n",
      "('IPhone', 'Lightning Charging Cable') 1156\n",
      "('Samsung Phone', 'Wired Headphones') 725\n",
      "('IPhone', 'Wired Headphones') 573\n",
      "('IPhone', 'Apple Airpods Headphones') 414\n",
      "('Budget Phone', 'USB-C Charging Cable') 402\n",
      "('Samsung Phone', 'Bose SoundSport Headphones') 395\n",
      "('USB-C Charging Cable', 'Wired Headphones') 208\n",
      "('Budget Phone', 'Wired Headphones') 188\n",
      "('Lightning Charging Cable', 'Wired Headphones') 135\n"
     ]
    }
   ],
   "source": [
    "# counting the occurance of the products in the list\n",
    "# Referencing: https://stackoverflow.com/questions/52195887/counting-unique-pairs-of-numbers-into-a-python-dictionary\n",
    "\n",
    "from itertools import combinations\n",
    "from collections import Counter\n",
    "\n",
    "count = Counter()\n",
    "\n",
    "for row in df_list['Shopping list']:\n",
    "    row_list = row.split(',')\n",
    "    count.update(Counter(combinations(row_list, 2)))\n",
    "    \n",
    "for key, value in count.most_common(10):\n",
    "    print (key, value)\n",
    "    \n",
    "#Phones and thier suitable charger are the most comman combination of products"
   ]
  },
  {
   "cell_type": "markdown",
   "metadata": {},
   "source": [
    "### 5- What are the most sold products? and why?"
   ]
  },
  {
   "cell_type": "code",
   "execution_count": 28,
   "metadata": {},
   "outputs": [
    {
     "data": {
      "image/png": "[encoded data removed]",
      "text/plain": [
       "<Figure size 432x288 with 1 Axes>"
      ]
     },
     "metadata": {
      "needs_background": "light"
     },
     "output_type": "display_data"
    }
   ],
   "source": [
    "#groupby product and the quantitiy sold\n",
    "products = df.groupby('Product')\n",
    "quantitiy_sold = products.sum()['Quantity Ordered']\n",
    "\n",
    "product_list = [product for product, df in products]\n",
    "\n",
    "plt.bar(product_list, quantitiy_sold)\n",
    "plt.xticks(product_list, rotation='vertical', size =8)\n",
    "plt.ylabel('Quantatity sold')\n",
    "plt.xlabel('Products')\n",
    "plt.show()\n",
    "\n",
    "#Batteries and chargers are the most sold products"
   ]
  },
  {
   "cell_type": "markdown",
   "metadata": {},
   "source": [
    "### 5- b Why these products sold too much?"
   ]
  },
  {
   "cell_type": "code",
   "execution_count": 29,
   "metadata": {},
   "outputs": [
    {
     "data": {
      "image/png": "[encoded data removed]",
      "text/plain": [
       "<Figure size 432x288 with 2 Axes>"
      ]
     },
     "metadata": {
      "needs_background": "light"
     },
     "output_type": "display_data"
    }
   ],
   "source": [
    "# probably there is a relation between the price and quantitity sold \n",
    "#( the cheaper the product the more likely it is sold)\n",
    "prices = df.groupby('Product').mean()['Price Each']\n",
    "\n",
    "\n",
    "#plotting price overlay with quantities sold to explore the relation\n",
    "\n",
    "fig, ax1= plt.subplots()\n",
    "\n",
    "ax2 = ax1.twinx()\n",
    "\n",
    "ax1.bar(product_list, quantitiy_sold, color = 'g')\n",
    "ax2.plot(product_list, prices, 'b-')\n",
    "\n",
    "ax1.set_xlabel('Product name')\n",
    "ax1.set_xticklabels(product_list, rotation = 'vertical', size = 8)\n",
    "ax1.set_ylabel('Quantity sold', color = 'g')\n",
    "ax2.set_ylabel('price USD' , color = 'b')\n",
    "\n",
    "plt.show()\n",
    "\n",
    "#as assumed, batteries have the lowest prices so they generated the highest number of orders."
   ]
  }
 ],
 "metadata": {
  "kernelspec": {
   "display_name": "Python 3",
   "language": "python",
   "name": "python3"
  },
  "language_info": {
   "codemirror_mode": {
    "name": "ipython",
    "version": 3
   },
   "file_extension": ".py",
   "mimetype": "text/x-python",
   "name": "python",
   "nbconvert_exporter": "python",
   "pygments_lexer": "ipython3",
   "version": "3.8.3"
  }
 },
 "nbformat": 4,
 "nbformat_minor": 4
}
